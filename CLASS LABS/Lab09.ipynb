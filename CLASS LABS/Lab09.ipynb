{
 "cells": [
  {
   "cell_type": "code",
   "execution_count": 1,
   "metadata": {},
   "outputs": [
    {
     "name": "stdout",
     "output_type": "stream",
     "text": [
      "1. add a dog\n",
      "2. add a cat\n",
      "3. search the pet\n",
      "4. print the pets\n",
      "5. exit\n"
     ]
    },
    {
     "ename": "AttributeError",
     "evalue": "'petstore' object has no attribute 'pets'",
     "output_type": "error",
     "traceback": [
      "\u001b[1;31m---------------------------------------------------------------------------\u001b[0m",
      "\u001b[1;31mAttributeError\u001b[0m                            Traceback (most recent call last)",
      "\u001b[1;32mc:\\Users\\mayur\\OneDrive\\Desktop\\cu\\MScDSB-MDS171-23122139-Mayuri\\MScDSB-MDS171-23122139-Mayuri\\CLASS WORK\\pet_store.ipynb Cell 1\u001b[0m line \u001b[0;36m6\n\u001b[0;32m     <a href='vscode-notebook-cell:/c%3A/Users/mayur/OneDrive/Desktop/cu/MScDSB-MDS171-23122139-Mayuri/MScDSB-MDS171-23122139-Mayuri/CLASS%20WORK/pet_store.ipynb#W0sZmlsZQ%3D%3D?line=62'>63</a>\u001b[0m \u001b[39mif\u001b[39;00m choice\u001b[39m==\u001b[39m\u001b[39m\"\u001b[39m\u001b[39m1\u001b[39m\u001b[39m\"\u001b[39m:\n\u001b[0;32m     <a href='vscode-notebook-cell:/c%3A/Users/mayur/OneDrive/Desktop/cu/MScDSB-MDS171-23122139-Mayuri/MScDSB-MDS171-23122139-Mayuri/CLASS%20WORK/pet_store.ipynb#W0sZmlsZQ%3D%3D?line=63'>64</a>\u001b[0m     breed,age,gender,price\u001b[39m=\u001b[39m collectInput()\n\u001b[1;32m---> <a href='vscode-notebook-cell:/c%3A/Users/mayur/OneDrive/Desktop/cu/MScDSB-MDS171-23122139-Mayuri/MScDSB-MDS171-23122139-Mayuri/CLASS%20WORK/pet_store.ipynb#W0sZmlsZQ%3D%3D?line=64'>65</a>\u001b[0m     pets\u001b[39m.\u001b[39;49madd_details(\u001b[39m\"\u001b[39;49m\u001b[39mdog\u001b[39;49m\u001b[39m\"\u001b[39;49m,breed,age,gender,price)\n\u001b[0;32m     <a href='vscode-notebook-cell:/c%3A/Users/mayur/OneDrive/Desktop/cu/MScDSB-MDS171-23122139-Mayuri/MScDSB-MDS171-23122139-Mayuri/CLASS%20WORK/pet_store.ipynb#W0sZmlsZQ%3D%3D?line=65'>66</a>\u001b[0m \u001b[39melif\u001b[39;00m choice\u001b[39m==\u001b[39m\u001b[39m\"\u001b[39m\u001b[39m2\u001b[39m\u001b[39m\"\u001b[39m:\n\u001b[0;32m     <a href='vscode-notebook-cell:/c%3A/Users/mayur/OneDrive/Desktop/cu/MScDSB-MDS171-23122139-Mayuri/MScDSB-MDS171-23122139-Mayuri/CLASS%20WORK/pet_store.ipynb#W0sZmlsZQ%3D%3D?line=66'>67</a>\u001b[0m     breed,age,gender,price\u001b[39m=\u001b[39m collectInput()\n",
      "\u001b[1;32mc:\\Users\\mayur\\OneDrive\\Desktop\\cu\\MScDSB-MDS171-23122139-Mayuri\\MScDSB-MDS171-23122139-Mayuri\\CLASS WORK\\pet_store.ipynb Cell 1\u001b[0m line \u001b[0;36m1\n\u001b[0;32m      <a href='vscode-notebook-cell:/c%3A/Users/mayur/OneDrive/Desktop/cu/MScDSB-MDS171-23122139-Mayuri/MScDSB-MDS171-23122139-Mayuri/CLASS%20WORK/pet_store.ipynb#W0sZmlsZQ%3D%3D?line=8'>9</a>\u001b[0m \u001b[39mdef\u001b[39;00m \u001b[39madd_details\u001b[39m(\u001b[39mself\u001b[39m,\u001b[39mtype\u001b[39m,breed,age,gender,price):\n\u001b[1;32m---> <a href='vscode-notebook-cell:/c%3A/Users/mayur/OneDrive/Desktop/cu/MScDSB-MDS171-23122139-Mayuri/MScDSB-MDS171-23122139-Mayuri/CLASS%20WORK/pet_store.ipynb#W0sZmlsZQ%3D%3D?line=9'>10</a>\u001b[0m         \u001b[39mself\u001b[39;49m\u001b[39m.\u001b[39;49mpets[\u001b[39mtype\u001b[39m]\u001b[39m.\u001b[39mappend({\n\u001b[0;32m     <a href='vscode-notebook-cell:/c%3A/Users/mayur/OneDrive/Desktop/cu/MScDSB-MDS171-23122139-Mayuri/MScDSB-MDS171-23122139-Mayuri/CLASS%20WORK/pet_store.ipynb#W0sZmlsZQ%3D%3D?line=10'>11</a>\u001b[0m             \u001b[39m\"\u001b[39m\u001b[39mbreed\u001b[39m\u001b[39m\"\u001b[39m:breed,\n\u001b[0;32m     <a href='vscode-notebook-cell:/c%3A/Users/mayur/OneDrive/Desktop/cu/MScDSB-MDS171-23122139-Mayuri/MScDSB-MDS171-23122139-Mayuri/CLASS%20WORK/pet_store.ipynb#W0sZmlsZQ%3D%3D?line=11'>12</a>\u001b[0m             \u001b[39m\"\u001b[39m\u001b[39mage\u001b[39m\u001b[39m\"\u001b[39m:age,\n\u001b[0;32m     <a href='vscode-notebook-cell:/c%3A/Users/mayur/OneDrive/Desktop/cu/MScDSB-MDS171-23122139-Mayuri/MScDSB-MDS171-23122139-Mayuri/CLASS%20WORK/pet_store.ipynb#W0sZmlsZQ%3D%3D?line=12'>13</a>\u001b[0m             \u001b[39m\"\u001b[39m\u001b[39mgender\u001b[39m\u001b[39m\"\u001b[39m:gender,\n\u001b[0;32m     <a href='vscode-notebook-cell:/c%3A/Users/mayur/OneDrive/Desktop/cu/MScDSB-MDS171-23122139-Mayuri/MScDSB-MDS171-23122139-Mayuri/CLASS%20WORK/pet_store.ipynb#W0sZmlsZQ%3D%3D?line=13'>14</a>\u001b[0m             \u001b[39m\"\u001b[39m\u001b[39mprice\u001b[39m\u001b[39m\"\u001b[39m:price,\n\u001b[0;32m     <a href='vscode-notebook-cell:/c%3A/Users/mayur/OneDrive/Desktop/cu/MScDSB-MDS171-23122139-Mayuri/MScDSB-MDS171-23122139-Mayuri/CLASS%20WORK/pet_store.ipynb#W0sZmlsZQ%3D%3D?line=14'>15</a>\u001b[0m         })\n",
      "\u001b[1;31mAttributeError\u001b[0m: 'petstore' object has no attribute 'pets'"
     ]
    }
   ],
   "source": [
    "class petstore: # creating a class named petstore\n",
    "    def _init_(self):\n",
    "        self.pets={\n",
    "            \"dog\":[],\n",
    "            \"cat\":[]\n",
    "        } # creating 2 lists in the dictionary\n",
    "        \n",
    "        \n",
    "    def add_details(self,type,breed,age,gender,price):\n",
    "            self.pets[type].append({\n",
    "                \"breed\":breed,\n",
    "                \"age\":age,\n",
    "                \"gender\":gender,\n",
    "                \"price\":price,\n",
    "            })  # adding details about the pet by froming a dictionary for the same\n",
    "\n",
    "            # if type==\"dogs\":\n",
    "            #     self.pets[\"dogs\"].append(details)\n",
    "            # elif type==\"cats\":\n",
    "            #     self.pets[\"cats\"].append(details)\n",
    "\n",
    "    def search(self,type):\n",
    "        type=input(\"enter the type of pet\")\n",
    "        if type in self.pets:\n",
    "            for item in self.pets[type]:\n",
    "                print(item)  # searching for the pet\n",
    "\n",
    "    def print(self):\n",
    "        print(self.pets) # printing all the pets\n",
    "\n",
    "def collectInput():\n",
    "    breed = input(\"Enter the breed \")\n",
    "    age = input(\"Enter age \")\n",
    "    gender = input(\"Enter gender\")\n",
    "    price = input(\"enter the price \")\n",
    "    return breed, age, gender, price # collecting the pets input\n",
    "\n",
    "pets=petstore() # creating an object for the class\n",
    "\n",
    "# creating a menu driven program to implement the different functions used in the class\n",
    "\n",
    "while True:\n",
    "    print(\"1. add a dog\")\n",
    "    print(\"2. add a cat\")\n",
    "    print(\"3. search the pet\")\n",
    "    print(\"4. print the pets\")\n",
    "    print(\"5. exit\")\n",
    "\n",
    "    choice=input(\"enter your choice\")\n",
    "    if choice==\"1\":\n",
    "        breed,age,gender,price= collectInput()\n",
    "        pets.add_details(\"dog\",breed,age,gender,price)\n",
    "    elif choice==\"2\":\n",
    "        breed,age,gender,price= collectInput()\n",
    "        pets.add_details(\"cat\",breed,age,gender,price)\n",
    "    elif choice==\"3\":\n",
    "        type=input(\"enter the type\")\n",
    "        pets.search(type)\n",
    "    elif choice==\"4\":\n",
    "        pets.print()\n",
    "    elif choice==\"5\":\n",
    "        break\n",
    "\n"
   ]
  }
 ],
 "metadata": {
  "kernelspec": {
   "display_name": "Python 3",
   "language": "python",
   "name": "python3"
  },
  "language_info": {
   "codemirror_mode": {
    "name": "ipython",
    "version": 3
   },
   "file_extension": ".py",
   "mimetype": "text/x-python",
   "name": "python",
   "nbconvert_exporter": "python",
   "pygments_lexer": "ipython3",
   "version": "3.11.6"
  }
 },
 "nbformat": 4,
 "nbformat_minor": 2
}
