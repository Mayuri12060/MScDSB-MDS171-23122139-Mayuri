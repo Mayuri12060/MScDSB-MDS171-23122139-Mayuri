{
 "cells": [
  {
   "cell_type": "code",
   "execution_count": 21,
   "metadata": {},
   "outputs": [
    {
     "name": "stdout",
     "output_type": "stream",
     "text": [
      "The mean of the list 542.94\n",
      "The minimum number is 17\n",
      "The maximum number is 999\n",
      "The range of the number is 982\n"
     ]
    }
   ],
   "source": [
    "a = [761, 123, 585, 275, 194, 840, 999, 622, 763, 40, 825, 687, 402, 338, 611, 987, 739, 95, 819, 568, 320, 126, 688, 948, 514, 223, 751, 379, 857, 767, 492, 162, 437, 934, 430, 343, 725, 511, 580, 678, 708, 823, 346, 179, 786, 663, 195, 890, 267, 502, 214, 300, 786, 961, 235, 559, 992, 919, 948, 318, 57, 787, 653, 317, 305, 172, 966, 182, 970, 17, 89, 624, 629, 595, 485, 752, 984, 978, 460, 124, 321, 256, 614, 852, 811, 561, 127, 207, 406, 615, 888, 391, 691, 470, 911, 401, 137, 600, 478, 682]\n",
    "\n",
    "sum = 0\n",
    "count = 0\n",
    "for i in a:\n",
    "   count = count + 1\n",
    "   sum += int(i)\n",
    "\n",
    "def mean():\n",
    "    m = sum/count\n",
    "    print(\"The mean of the list\",m)\n",
    "mean()\n",
    "\n",
    "def minimum(x):\n",
    "    q= a[0]\n",
    "    for i in x:\n",
    "        if i<q:\n",
    "            q=i\n",
    "    return q\n",
    "print(\"The minimum number is\",minimum(a))\n",
    "\n",
    "def maximum(y):\n",
    "    l= a[0]\n",
    "    for i in y:\n",
    "        if i>l:\n",
    "            l=i\n",
    "    return l\n",
    "print(\"The maximum number is\",maximum(a))\n",
    "\n",
    "def ranges():\n",
    "    r = maximum(a)-minimum(a)\n",
    "    print(\"The range of the number is\",r)\n",
    "ranges()"
   ]
  },
  {
   "cell_type": "code",
   "execution_count": 10,
   "metadata": {},
   "outputs": [
    {
     "ename": "TypeError",
     "evalue": "minimum() takes 0 positional arguments but 1 was given",
     "output_type": "error",
     "traceback": [
      "\u001b[1;31m---------------------------------------------------------------------------\u001b[0m",
      "\u001b[1;31mTypeError\u001b[0m                                 Traceback (most recent call last)",
      "\u001b[1;32mc:\\Users\\mayur\\OneDrive\\Desktop\\cu\\MScDSB-MDS171-23122139-Mayuri\\MScDSB-MDS171-23122139-Mayuri\\Lab03.ipynb Cell 2\u001b[0m line \u001b[0;36m1\n\u001b[0;32m      <a href='vscode-notebook-cell:/c%3A/Users/mayur/OneDrive/Desktop/cu/MScDSB-MDS171-23122139-Mayuri/MScDSB-MDS171-23122139-Mayuri/Lab03.ipynb#W1sZmlsZQ%3D%3D?line=7'>8</a>\u001b[0m             q\u001b[39m=\u001b[39mi\n\u001b[0;32m      <a href='vscode-notebook-cell:/c%3A/Users/mayur/OneDrive/Desktop/cu/MScDSB-MDS171-23122139-Mayuri/MScDSB-MDS171-23122139-Mayuri/Lab03.ipynb#W1sZmlsZQ%3D%3D?line=8'>9</a>\u001b[0m     \u001b[39mreturn\u001b[39;00m q\n\u001b[1;32m---> <a href='vscode-notebook-cell:/c%3A/Users/mayur/OneDrive/Desktop/cu/MScDSB-MDS171-23122139-Mayuri/MScDSB-MDS171-23122139-Mayuri/Lab03.ipynb#W1sZmlsZQ%3D%3D?line=9'>10</a>\u001b[0m \u001b[39mprint\u001b[39m(\u001b[39m\"\u001b[39m\u001b[39mThe minimum number is\u001b[39m\u001b[39m\"\u001b[39m,minimum(b))\n",
      "\u001b[1;31mTypeError\u001b[0m: minimum() takes 0 positional arguments but 1 was given"
     ]
    }
   ],
   "source": [
    "# b = [1,2,3,4,5,6,7,8,9,10]\n",
    "\n",
    "# a = [761, 123, 585, 275, 194, 840, 999, 622, 763, 40, 825, 687, 402, 338, 611, 987, 739, 95, 819, 568, 320, 126, 688, 948, 514, 223, 751, 379, 857, 767, 492, 162, 437, 934, 430, 343, 725, 511, 580, 678, 708, 823, 346, 179, 786, 663, 195, 890, 267, 502, 214, 300, 786, 961, 235, 559, 992, 919, 948, 318, 57, 787, 653, 317, 305, 172, 966, 182, 970, 17, 89, 624, 629, 595, 485, 752, 984, 978, 460, 124, 321, 256, 614, 852, 811, 561, 127, 207, 406, 615, 888, 391, 691, 470, 911, 401, 137, 600, 478, 682]\n",
    "# def minimum(x):\n",
    "#     q= a[0]\n",
    "#     for i in x:\n",
    "#         if i<q:\n",
    "#             q=i\n",
    "#     return q\n",
    "# print(\"The minimum number is\",minimum())"
   ]
  },
  {
   "cell_type": "code",
   "execution_count": 37,
   "metadata": {},
   "outputs": [
    {
     "name": "stdout",
     "output_type": "stream",
     "text": [
      "hiee\n"
     ]
    }
   ],
   "source": [
    "x='hello'\n",
    "v='hi'\n",
    "c='mayuri'\n",
    "\n",
    "# def read(x):\n",
    "#     print(x)\n",
    "# read(c)\n",
    "def class_(x):\n",
    "    print(\"hiee\")\n",
    "class_(c)\n",
    "\n"
   ]
  },
  {
   "cell_type": "markdown",
   "metadata": {},
   "source": []
  }
 ],
 "metadata": {
  "kernelspec": {
   "display_name": "Python 3",
   "language": "python",
   "name": "python3"
  },
  "language_info": {
   "codemirror_mode": {
    "name": "ipython",
    "version": 3
   },
   "file_extension": ".py",
   "mimetype": "text/x-python",
   "name": "python",
   "nbconvert_exporter": "python",
   "pygments_lexer": "ipython3",
   "version": "3.11.6"
  },
  "orig_nbformat": 4
 },
 "nbformat": 4,
 "nbformat_minor": 2
}
