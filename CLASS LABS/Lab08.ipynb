{
 "cells": [
  {
   "cell_type": "code",
   "execution_count": 1,
   "metadata": {},
   "outputs": [
    {
     "ename": "",
     "evalue": "",
     "output_type": "error",
     "traceback": [
      "\u001b[1;31mThe Kernel crashed while executing code in the the current cell or a previous cell. Please review the code in the cell(s) to identify a possible cause of the failure. Click <a href='https://aka.ms/vscodeJupyterKernelCrash'>here</a> for more info. View Jupyter <a href='command:jupyter.viewOutput'>log</a> for further details."
     ]
    }
   ],
   "source": [
    "class stack():\n",
    "    def __init__(self):\n",
    "        self.stack = []\n",
    "    def push_item(self,item):\n",
    "        self.stack.append(item)\n",
    "    def pop_item(self):\n",
    "        return self.stack.pop()\n",
    "    def view_item(self):\n",
    "        for item in self.stack:\n",
    "            print(item)\n",
    "    def length_stack(self):\n",
    "        print(len(self.stack))\n",
    "    def check_(self):\n",
    "        if self.stack == []:\n",
    "            print(\"empty stack\")\n",
    "        else:\n",
    "            print(\"non-empty\")\n",
    "    def menu(self):\n",
    "        while True:\n",
    "            n = int(input(\"enter choice\"))\n",
    "            if n == 1:\n",
    "                item = int(input(\"enter item\"))\n",
    "                self.push_item(item)\n",
    "            elif n == 2:\n",
    "                self.pop_item()\n",
    "            elif n == 3:\n",
    "                self.view_item()\n",
    "            elif n == 4:\n",
    "                self.length_stack()\n",
    "            elif n == 5:\n",
    "                self.check_()\n",
    "            elif n == 6:\n",
    "                exit()\n",
    "                break\n",
    "            else :\n",
    "                print(\"invalid choice\")\n",
    "\n",
    "X = stack()\n",
    "X.menu()"
   ]
  },
  {
   "cell_type": "code",
   "execution_count": null,
   "metadata": {},
   "outputs": [],
   "source": []
  }
 ],
 "metadata": {
  "kernelspec": {
   "display_name": "Python 3",
   "language": "python",
   "name": "python3"
  },
  "language_info": {
   "codemirror_mode": {
    "name": "ipython",
    "version": 3
   },
   "file_extension": ".py",
   "mimetype": "text/x-python",
   "name": "python",
   "nbconvert_exporter": "python",
   "pygments_lexer": "ipython3",
   "version": "3.11.6"
  }
 },
 "nbformat": 4,
 "nbformat_minor": 2
}
