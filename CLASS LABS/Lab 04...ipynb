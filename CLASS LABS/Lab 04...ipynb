{
 "cells": [
  {
   "cell_type": "code",
   "execution_count": 15,
   "metadata": {},
   "outputs": [],
   "source": [
    "# def orders(Name,product,Quantity):\n",
    "#     file=open(\"jpp\",\"a+\")\n",
    "#     file.write(\"\\n\\t\"+name)\n",
    "#     file.write(\"\\n\\t\"+Product)\n",
    "#     file.write(\"\\n\\t\"+quantity)\n",
    "# name=input(\"enter your name\")\n",
    "# Product=input(\"enter the product you want to order\")\n",
    "# quantity=input(\"enter the quntity of the product\")\n",
    "# orders(name,Product,quantity)"
   ]
  },
  {
   "cell_type": "code",
   "execution_count": 19,
   "metadata": {},
   "outputs": [],
   "source": [
    "def gsms(item,price,quantity,total,custname,phone):\n",
    "    filename = open(\"LAB04\",\"a+\")\n",
    "    filename.write(\"Product Name\\t: \\t\"+item)\n",
    "    filename.write(\"\\nPrice\\t: \"+price)\n",
    "    filename.write(\"\\nQuantity\\t: \\t\"+quantity)\n",
    "    filename.write(\"\\nTotal Amount\\t: \\t\"+total)\n",
    "    filename.write(\"\\nName of the customer\\t: \\t\"+cname)\n",
    "    filename.write(\"\\nPhone number\\t: \\t\"+mob)\n",
    "    filename.close()\n",
    "item = input(\"Enter the product: \")\n",
    "price = input(\"Item Price: \")\n",
    "qty = input(\"Number of Products: \")\n",
    "total = input(\"Total amount is: \")\n",
    "cname = input(\"Enter the name of the customer: \")\n",
    "mob = input(\"Enter the phone number of the customer: \")\n",
    "gms = gsms(item,price,quantity,total,cname,mob)"
   ]
  },
  {
   "cell_type": "code",
   "execution_count": 9,
   "metadata": {},
   "outputs": [],
   "source": [
    "file=open(\"GSMS\",\"r+\")\n",
    "a=file.readlines()\n"
   ]
  },
  {
   "cell_type": "code",
   "execution_count": 10,
   "metadata": {},
   "outputs": [
    {
     "data": {
      "text/plain": [
       "['\\n', '\\tyashi\\n', '\\tguava\\n', '\\t2']"
      ]
     },
     "execution_count": 10,
     "metadata": {},
     "output_type": "execute_result"
    }
   ],
   "source": [
    "a"
   ]
  },
  {
   "cell_type": "code",
   "execution_count": 11,
   "metadata": {},
   "outputs": [],
   "source": [
    "a\n",
    "counter=3\n",
    "lst=[]\n",
    "for i in a:\n",
    "    if counter==0:\n",
    "        lst.append(i)\n",
    "        counter=3\n",
    "    counter=counter-1\n",
    "        \n",
    " "
   ]
  },
  {
   "cell_type": "code",
   "execution_count": 12,
   "metadata": {},
   "outputs": [
    {
     "data": {
      "text/plain": [
       "['\\t2']"
      ]
     },
     "execution_count": 12,
     "metadata": {},
     "output_type": "execute_result"
    }
   ],
   "source": [
    "lst"
   ]
  },
  {
   "cell_type": "code",
   "execution_count": 13,
   "metadata": {},
   "outputs": [],
   "source": [
    "counter=2\n",
    "lst1=[]\n",
    "for i in a:\n",
    "    if counter==0:\n",
    "        lst1.append(i)\n",
    "        counter=3\n",
    "    counter=counter-1"
   ]
  },
  {
   "cell_type": "code",
   "execution_count": 14,
   "metadata": {},
   "outputs": [
    {
     "data": {
      "text/plain": [
       "['\\tguava\\n']"
      ]
     },
     "execution_count": 14,
     "metadata": {},
     "output_type": "execute_result"
    }
   ],
   "source": [
    "lst1"
   ]
  },
  {
   "cell_type": "code",
   "execution_count": null,
   "metadata": {},
   "outputs": [],
   "source": []
  }
 ],
 "metadata": {
  "kernelspec": {
   "display_name": "Python 3",
   "language": "python",
   "name": "python3"
  },
  "language_info": {
   "codemirror_mode": {
    "name": "ipython",
    "version": 3
   },
   "file_extension": ".py",
   "mimetype": "text/x-python",
   "name": "python",
   "nbconvert_exporter": "python",
   "pygments_lexer": "ipython3",
   "version": "3.11.6"
  },
  "orig_nbformat": 4
 },
 "nbformat": 4,
 "nbformat_minor": 2
}
