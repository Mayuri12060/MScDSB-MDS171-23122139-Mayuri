{
 "cells": [
  {
   "cell_type": "markdown",
   "metadata": {},
   "source": [
    "        # Rollnumber : {\n",
    "        #   Name,\n",
    "        #   Class,\n",
    "        #   \n",
    "        #   Marks : {\n",
    "                # \"subject\": mark,\n",
    "        #   }\n",
    "        # }"
   ]
  },
  {
   "cell_type": "code",
   "execution_count": 2,
   "metadata": {},
   "outputs": [
    {
     "ename": "KeyError",
     "evalue": "2020",
     "output_type": "error",
     "traceback": [
      "\u001b[1;31m---------------------------------------------------------------------------\u001b[0m",
      "\u001b[1;31mKeyError\u001b[0m                                  Traceback (most recent call last)",
      "\u001b[1;32mc:\\Users\\mayur\\OneDrive\\Desktop\\cu\\MScDSB-MDS171-23122139-Mayuri\\MScDSB-MDS171-23122139-Mayuri\\CLASS LABS\\Lab 10.ipynb Cell 2\u001b[0m line \u001b[0;36m2\n\u001b[0;32m     <a href='vscode-notebook-cell:/c%3A/Users/mayur/OneDrive/Desktop/cu/MScDSB-MDS171-23122139-Mayuri/MScDSB-MDS171-23122139-Mayuri/CLASS%20LABS/Lab%2010.ipynb#W1sZmlsZQ%3D%3D?line=25'>26</a>\u001b[0m mark \u001b[39m=\u001b[39m \u001b[39mint\u001b[39m(\u001b[39minput\u001b[39m(\u001b[39m\"\u001b[39m\u001b[39menter mark\u001b[39m\u001b[39m\"\u001b[39m))\n\u001b[0;32m     <a href='vscode-notebook-cell:/c%3A/Users/mayur/OneDrive/Desktop/cu/MScDSB-MDS171-23122139-Mayuri/MScDSB-MDS171-23122139-Mayuri/CLASS%20LABS/Lab%2010.ipynb#W1sZmlsZQ%3D%3D?line=27'>28</a>\u001b[0m obj\u001b[39m.\u001b[39mstudent_det(name,roll_no,email,phone)\n\u001b[1;32m---> <a href='vscode-notebook-cell:/c%3A/Users/mayur/OneDrive/Desktop/cu/MScDSB-MDS171-23122139-Mayuri/MScDSB-MDS171-23122139-Mayuri/CLASS%20LABS/Lab%2010.ipynb#W1sZmlsZQ%3D%3D?line=28'>29</a>\u001b[0m obj\u001b[39m.\u001b[39;49mstudent_marks(roll_no,subject,mark)\n\u001b[0;32m     <a href='vscode-notebook-cell:/c%3A/Users/mayur/OneDrive/Desktop/cu/MScDSB-MDS171-23122139-Mayuri/MScDSB-MDS171-23122139-Mayuri/CLASS%20LABS/Lab%2010.ipynb#W1sZmlsZQ%3D%3D?line=29'>30</a>\u001b[0m obj\u001b[39m.\u001b[39m\u001b[39m__str__\u001b[39m()\n\u001b[0;32m     <a href='vscode-notebook-cell:/c%3A/Users/mayur/OneDrive/Desktop/cu/MScDSB-MDS171-23122139-Mayuri/MScDSB-MDS171-23122139-Mayuri/CLASS%20LABS/Lab%2010.ipynb#W1sZmlsZQ%3D%3D?line=31'>32</a>\u001b[0m \u001b[39m# n = int(input(\"enter your choice\"))\u001b[39;00m\n\u001b[0;32m     <a href='vscode-notebook-cell:/c%3A/Users/mayur/OneDrive/Desktop/cu/MScDSB-MDS171-23122139-Mayuri/MScDSB-MDS171-23122139-Mayuri/CLASS%20LABS/Lab%2010.ipynb#W1sZmlsZQ%3D%3D?line=32'>33</a>\u001b[0m \u001b[39m# # while True:\u001b[39;00m\n\u001b[0;32m     <a href='vscode-notebook-cell:/c%3A/Users/mayur/OneDrive/Desktop/cu/MScDSB-MDS171-23122139-Mayuri/MScDSB-MDS171-23122139-Mayuri/CLASS%20LABS/Lab%2010.ipynb#W1sZmlsZQ%3D%3D?line=33'>34</a>\u001b[0m \u001b[39m# if n == 1 : \u001b[39;00m\n\u001b[1;32m   (...)\u001b[0m\n\u001b[0;32m     <a href='vscode-notebook-cell:/c%3A/Users/mayur/OneDrive/Desktop/cu/MScDSB-MDS171-23122139-Mayuri/MScDSB-MDS171-23122139-Mayuri/CLASS%20LABS/Lab%2010.ipynb#W1sZmlsZQ%3D%3D?line=40'>41</a>\u001b[0m \u001b[39m# elif n == 4:\u001b[39;00m\n\u001b[0;32m     <a href='vscode-notebook-cell:/c%3A/Users/mayur/OneDrive/Desktop/cu/MScDSB-MDS171-23122139-Mayuri/MScDSB-MDS171-23122139-Mayuri/CLASS%20LABS/Lab%2010.ipynb#W1sZmlsZQ%3D%3D?line=41'>42</a>\u001b[0m \u001b[39m#     exit()\u001b[39;00m\n",
      "\u001b[1;32mc:\\Users\\mayur\\OneDrive\\Desktop\\cu\\MScDSB-MDS171-23122139-Mayuri\\MScDSB-MDS171-23122139-Mayuri\\CLASS LABS\\Lab 10.ipynb Cell 2\u001b[0m line \u001b[0;36m1\n\u001b[0;32m     <a href='vscode-notebook-cell:/c%3A/Users/mayur/OneDrive/Desktop/cu/MScDSB-MDS171-23122139-Mayuri/MScDSB-MDS171-23122139-Mayuri/CLASS%20LABS/Lab%2010.ipynb#W1sZmlsZQ%3D%3D?line=12'>13</a>\u001b[0m \u001b[39mdef\u001b[39;00m \u001b[39mstudent_marks\u001b[39m(\u001b[39mself\u001b[39m,rollno,subject,mark):\n\u001b[1;32m---> <a href='vscode-notebook-cell:/c%3A/Users/mayur/OneDrive/Desktop/cu/MScDSB-MDS171-23122139-Mayuri/MScDSB-MDS171-23122139-Mayuri/CLASS%20LABS/Lab%2010.ipynb#W1sZmlsZQ%3D%3D?line=13'>14</a>\u001b[0m     \u001b[39mself\u001b[39;49m\u001b[39m.\u001b[39;49mstudents[rollno][\u001b[39m'\u001b[39m\u001b[39mMarks\u001b[39m\u001b[39m'\u001b[39m] \u001b[39m=\u001b[39m mark\n",
      "\u001b[1;31mKeyError\u001b[0m: 2020"
     ]
    }
   ],
   "source": [
    "class lab:\n",
    "    def __init__(self):\n",
    "        self.students = {} #dictionary to store the student details\n",
    "\n",
    "    def student_det(self,rollno,name,email,phone):\n",
    "        self.students[rollno] = {\n",
    "            \"Name\": name,\n",
    "            \"Email\": email,\n",
    "            \"Phone\": phone,\n",
    "            \"Marks\": {}\n",
    "        }\n",
    "\n",
    "    def student_marks(self,rollno,subject,mark):\n",
    "        self.students[rollno]['Marks'] = mark\n",
    "        \n",
    "\n",
    "    def __str__(self):\n",
    "        print(self.students)\n",
    "obj=lab()\n",
    "# collect user inputs\n",
    "# name = input(\"enter student's name\")\n",
    "# roll_no = int(input(\"enter roll number\"))\n",
    "# email = input(\"enter mail id\")\n",
    "# phone = int(input(\"enter phone num\"))\n",
    "# subject = input(\"enter subj\")\n",
    "# mark = int(input(\"enter mark\"))\n",
    "\n",
    "# obj.student_det(name,roll_no,email,phone)\n",
    "# obj.student_marks(roll_no,subject,mark)\n",
    "# obj.__str__()\n",
    "\n",
    "# n = int(input(\"enter your choice\"))\n",
    "# # while True:\n",
    "# if n == 1 : \n",
    "\n",
    "#     obj.student_det()#name,class_,roll_no)\n",
    "# elif n == 2 :\n",
    "#     obj.get_marks()\n",
    "# elif n == 3 :\n",
    "#     obj.print_details()\n",
    "# elif n == 4:\n",
    "#     exit()"
   ]
  },
  {
   "cell_type": "code",
   "execution_count": 8,
   "metadata": {},
   "outputs": [
    {
     "name": "stdout",
     "output_type": "stream",
     "text": [
      "\n",
      "Student Management Menu:\n",
      "1. Add Student\n",
      "2. Add Marks\n",
      "3. View Student Details\n",
      "4. Exit\n",
      "Student not found.\n",
      "\n",
      "Student Management Menu:\n",
      "1. Add Student\n",
      "2. Add Marks\n",
      "3. View Student Details\n",
      "4. Exit\n",
      "Goodbye!\n"
     ]
    }
   ],
   "source": [
    "class StudentManager:\n",
    "    def __init__(self):\n",
    "        self.students = {}\n",
    "\n",
    "    def add_student(self, roll, name):\n",
    "        self.students[roll] = {'Name': name, 'Marks': {}}\n",
    "\n",
    "    def add_marks(self, roll, subject, marks):\n",
    "        if roll in self.students:\n",
    "            self.students[roll]['Marks'][subject] = marks\n",
    "        else:\n",
    "            print(\"Student not found.\")\n",
    "\n",
    "    def view_student_details(self, roll):\n",
    "        if roll in self.students:\n",
    "            student = self.students[roll]\n",
    "            print(f\"Name: {student['Name']}\")\n",
    "            print(\"Marks:\")\n",
    "            for subject, marks in student['Marks'].items():\n",
    "                print(f\"{subject}: {marks}\")\n",
    "        else:\n",
    "            print(\"Student not found.\")\n",
    "X= StudentManager()\n",
    "\n",
    "while True:\n",
    "    print(\"\\nStudent Management Menu:\")\n",
    "    print(\"1. Add Student\")\n",
    "    print(\"2. Add Marks\")\n",
    "    print(\"3. View Student Details\")\n",
    "    print(\"4. Exit\")\n",
    "    choice = input(\"Enter your choice: \")\n",
    "\n",
    "    if choice == '1':\n",
    "        roll = input(\"Enter Roll No.: \")\n",
    "        name = input(\"Enter Name: \")\n",
    "        X.add_student(roll, name)\n",
    "\n",
    "    elif choice == '2':\n",
    "        roll = input(\"Enter Roll No.: \")\n",
    "        subject = input(\"Enter Subject: \")\n",
    "        marks = input(\"Enter Marks: \")\n",
    "        X.add_marks(roll, subject, marks)\n",
    "\n",
    "    elif choice == '3':\n",
    "        roll = input(\"Enter Roll No.: \")\n",
    "        X.view_student_details(roll)\n",
    "\n",
    "    elif choice == '4':\n",
    "        print(\"Goodbye!\")\n",
    "        break  \n",
    "\n",
    "    else:\n",
    "        print(\"Invalid choice. Please select a valid option.\")"
   ]
  },
  {
   "cell_type": "code",
   "execution_count": null,
   "metadata": {},
   "outputs": [],
   "source": []
  },
  {
   "cell_type": "code",
   "execution_count": null,
   "metadata": {},
   "outputs": [],
   "source": []
  }
 ],
 "metadata": {
  "kernelspec": {
   "display_name": "Python 3",
   "language": "python",
   "name": "python3"
  },
  "language_info": {
   "codemirror_mode": {
    "name": "ipython",
    "version": 3
   },
   "file_extension": ".py",
   "mimetype": "text/x-python",
   "name": "python",
   "nbconvert_exporter": "python",
   "pygments_lexer": "ipython3",
   "version": "3.11.6"
  }
 },
 "nbformat": 4,
 "nbformat_minor": 2
}
