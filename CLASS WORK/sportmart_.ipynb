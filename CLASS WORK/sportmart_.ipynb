{
 "cells": [
  {
   "cell_type": "code",
   "execution_count": 2,
   "metadata": {},
   "outputs": [
    {
     "ename": "SyntaxError",
     "evalue": "invalid syntax (1745024993.py, line 28)",
     "output_type": "error",
     "traceback": [
      "\u001b[1;36m  Cell \u001b[1;32mIn[2], line 28\u001b[1;36m\u001b[0m\n\u001b[1;33m    students = []while True:\u001b[0m\n\u001b[1;37m                 ^\u001b[0m\n\u001b[1;31mSyntaxError\u001b[0m\u001b[1;31m:\u001b[0m invalid syntax\n"
     ]
    }
   ],
   "source": []
  },
  {
   "cell_type": "code",
   "execution_count": 1,
   "metadata": {},
   "outputs": [
    {
     "ename": "FileNotFoundError",
     "evalue": "[Errno 2] No such file or directory: 'orders.csv'",
     "output_type": "error",
     "traceback": [
      "\u001b[1;31m---------------------------------------------------------------------------\u001b[0m",
      "\u001b[1;31mFileNotFoundError\u001b[0m                         Traceback (most recent call last)",
      "\u001b[1;32mc:\\Users\\mayur\\OneDrive\\Desktop\\cu\\MScDSB-MDS171-23122139-Mayuri\\MScDSB-MDS171-23122139-Mayuri\\CLASS WORK\\sportmart_.ipynb Cell 2\u001b[0m line \u001b[0;36m4\n\u001b[0;32m     <a href='vscode-notebook-cell:/c%3A/Users/mayur/OneDrive/Desktop/cu/MScDSB-MDS171-23122139-Mayuri/MScDSB-MDS171-23122139-Mayuri/CLASS%20WORK/sportmart_.ipynb#W1sZmlsZQ%3D%3D?line=40'>41</a>\u001b[0m         \u001b[39mprint\u001b[39m(\u001b[39mself\u001b[39m\u001b[39m.\u001b[39minventory)\n\u001b[0;32m     <a href='vscode-notebook-cell:/c%3A/Users/mayur/OneDrive/Desktop/cu/MScDSB-MDS171-23122139-Mayuri/MScDSB-MDS171-23122139-Mayuri/CLASS%20WORK/sportmart_.ipynb#W1sZmlsZQ%3D%3D?line=42'>43</a>\u001b[0m trinity \u001b[39m=\u001b[39m sportMart()\n\u001b[1;32m---> <a href='vscode-notebook-cell:/c%3A/Users/mayur/OneDrive/Desktop/cu/MScDSB-MDS171-23122139-Mayuri/MScDSB-MDS171-23122139-Mayuri/CLASS%20WORK/sportmart_.ipynb#W1sZmlsZQ%3D%3D?line=43'>44</a>\u001b[0m orders \u001b[39m=\u001b[39m \u001b[39mopen\u001b[39;49m(\u001b[39m\"\u001b[39;49m\u001b[39morders.csv\u001b[39;49m\u001b[39m\"\u001b[39;49m,\u001b[39m\"\u001b[39;49m\u001b[39mr\u001b[39;49m\u001b[39m\"\u001b[39;49m)\n\u001b[0;32m     <a href='vscode-notebook-cell:/c%3A/Users/mayur/OneDrive/Desktop/cu/MScDSB-MDS171-23122139-Mayuri/MScDSB-MDS171-23122139-Mayuri/CLASS%20WORK/sportmart_.ipynb#W1sZmlsZQ%3D%3D?line=44'>45</a>\u001b[0m orders_header \u001b[39m=\u001b[39m orders\u001b[39m.\u001b[39mreadline()\n\u001b[0;32m     <a href='vscode-notebook-cell:/c%3A/Users/mayur/OneDrive/Desktop/cu/MScDSB-MDS171-23122139-Mayuri/MScDSB-MDS171-23122139-Mayuri/CLASS%20WORK/sportmart_.ipynb#W1sZmlsZQ%3D%3D?line=45'>46</a>\u001b[0m orders_orders \u001b[39m=\u001b[39m orders\u001b[39m.\u001b[39mreadlines()\n",
      "File \u001b[1;32m~\\AppData\\Local\\Packages\\PythonSoftwareFoundation.Python.3.11_qbz5n2kfra8p0\\LocalCache\\local-packages\\Python311\\site-packages\\IPython\\core\\interactiveshell.py:284\u001b[0m, in \u001b[0;36m_modified_open\u001b[1;34m(file, *args, **kwargs)\u001b[0m\n\u001b[0;32m    277\u001b[0m \u001b[39mif\u001b[39;00m file \u001b[39min\u001b[39;00m {\u001b[39m0\u001b[39m, \u001b[39m1\u001b[39m, \u001b[39m2\u001b[39m}:\n\u001b[0;32m    278\u001b[0m     \u001b[39mraise\u001b[39;00m \u001b[39mValueError\u001b[39;00m(\n\u001b[0;32m    279\u001b[0m         \u001b[39mf\u001b[39m\u001b[39m\"\u001b[39m\u001b[39mIPython won\u001b[39m\u001b[39m'\u001b[39m\u001b[39mt let you open fd=\u001b[39m\u001b[39m{\u001b[39;00mfile\u001b[39m}\u001b[39;00m\u001b[39m by default \u001b[39m\u001b[39m\"\u001b[39m\n\u001b[0;32m    280\u001b[0m         \u001b[39m\"\u001b[39m\u001b[39mas it is likely to crash IPython. If you know what you are doing, \u001b[39m\u001b[39m\"\u001b[39m\n\u001b[0;32m    281\u001b[0m         \u001b[39m\"\u001b[39m\u001b[39myou can use builtins\u001b[39m\u001b[39m'\u001b[39m\u001b[39m open.\u001b[39m\u001b[39m\"\u001b[39m\n\u001b[0;32m    282\u001b[0m     )\n\u001b[1;32m--> 284\u001b[0m \u001b[39mreturn\u001b[39;00m io_open(file, \u001b[39m*\u001b[39;49margs, \u001b[39m*\u001b[39;49m\u001b[39m*\u001b[39;49mkwargs)\n",
      "\u001b[1;31mFileNotFoundError\u001b[0m: [Errno 2] No such file or directory: 'orders.csv'"
     ]
    }
   ],
   "source": [
    "# create a sportMart class, where you will have \n",
    "# -> inventory / shelf of items\n",
    "# -> Orders of customers\n",
    "\n",
    "# Create csv file which will store your inventory details and order details\n",
    "\n",
    "# with the help of file handling technqiues in python, read the file and create an object for trinity store and populate the inventory items and orders into the trinity stor\n",
    "\n",
    "# -------> 1)make  2 excel (csv)sheets to store order details and inventory \n",
    "# 2)start with class and keep order and inventory in empty dict\n",
    "# further make a class and add functions to it \n",
    "\n",
    "class sportMart:\n",
    "    def __init__(self):\n",
    "         self.inventory ={}\n",
    "         self.orders = {}\n",
    "\n",
    "    def createOrder(self,Orderid,Itemname,Quantity,Price,Total):\n",
    "        temp_1 = {\n",
    "             \"Orderid\": Orderid,\n",
    "             \"itemname\":Itemname,\n",
    "             \"Quantity\": Quantity,\n",
    "             \"Price\": Price,\n",
    "             \"total\": Total\n",
    "         }\n",
    "        self.orders[Orderid]= temp\n",
    "\n",
    "    def createInventory(self,Productid,ProductName,Quantity,Price):\n",
    "        temp = {\n",
    "                \"Product_id\": Productid,\n",
    "                 \"Product_name\": Productname,\n",
    "                 \"Quantity\": Quantity,\n",
    "                 \"Price\": Price,\n",
    "              }\n",
    "        self.inventory[Productid] = temp\n",
    "\n",
    "    def printOrders(self):\n",
    "        print(self.orders)\n",
    "\n",
    "    def printInventory(self):\n",
    "        print(self.inventory)\n",
    "\n",
    "trinity = sportMart()\n",
    "orders = open(\"orders.csv\",\"r\")\n",
    "orders_header = orders.readline()\n",
    "orders_orders = orders.readlines()\n",
    "for item in orders_orders:\n",
    "    temp = item.strip().split(',')\n",
    "    trinity.createOrder(temp[0],temp[1],temp[2],temp[3],temp[4])\n",
    "\n",
    "trinity.printOrders()\n",
    "\n",
    "inevntory = open(\"Inventory.csv\",\"r\")\n",
    "inventory_header = inventory.readline()\n",
    "inventory_inventory = inventory.read()\n",
    "for item in inventory_inventory :\n",
    "    temp = item.strip ().split(\",\")\n",
    "    trinity.createInventory(temp[0],temp,[1],temp[2],temp[3])\n",
    "\n",
    "# menu driven program\n",
    "def menu():\n",
    "    print(\"1.Create Order\")\n",
    "    print(\"2. Update the inventory\")\n",
    "    print(\"3.printinventory\")\n",
    "    print(\"4.printorders\")\n",
    "    print(\"5.exit\")\n",
    "choice = int(input(\"enter your choice:\"))\n",
    "if choice == 1:\n",
    "    OrderID = input(\"Enter Order ID:\")\n",
    "    ItemName = input(\"enter the ItemName:\")\n",
    "    quantity = int(input(\"enter the quantity:\"))\n",
    "    price = int(input(\"enter the price:\"))\n",
    "    total = int(input(\"enter the total:\"))\n",
    "                      \n",
    "elif choice == 2:\n",
    "    ProductID = input(\"Enter the ProductID:\")\n",
    "    ProductName = input(\"enter the ProductName:\")\n",
    "    quantity = int(input(\"enter the quantity:\"))\n",
    "    price = input(\"enter the price:\")\n",
    "\n",
    "elif choice == 3:\n",
    "    trinity.printinventory(\"ProductID\",\"ProductName\",\"quantity\",\"price\")\n",
    "\n",
    "elif choice == 4:\n",
    "    trinity.printorders(\"OrderID\",\"ItemName\",\"quantity\",\"price\",\"total\")\n",
    "\n",
    "elif choice == 5:\n",
    "    exit()\n",
    "else: \n",
    "    print(\"Invalid Choice\")\n",
    "\n",
    "X=sportMart()\n"
   ]
  },
  {
   "cell_type": "code",
   "execution_count": null,
   "metadata": {},
   "outputs": [],
   "source": []
  }
 ],
 "metadata": {
  "kernelspec": {
   "display_name": "Python 3",
   "language": "python",
   "name": "python3"
  },
  "language_info": {
   "codemirror_mode": {
    "name": "ipython",
    "version": 3
   },
   "file_extension": ".py",
   "mimetype": "text/x-python",
   "name": "python",
   "nbconvert_exporter": "python",
   "pygments_lexer": "ipython3",
   "version": "3.11.6"
  }
 },
 "nbformat": 4,
 "nbformat_minor": 2
}
