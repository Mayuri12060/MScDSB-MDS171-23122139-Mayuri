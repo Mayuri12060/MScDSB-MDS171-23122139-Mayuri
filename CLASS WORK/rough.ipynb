{
 "cells": [
  {
   "cell_type": "code",
   "execution_count": 1,
   "metadata": {},
   "outputs": [
    {
     "name": "stdout",
     "output_type": "stream",
     "text": [
      "6 is greatest\n"
     ]
    }
   ],
   "source": [
    "class greatest:\n",
    "    def __init__(self,name1,name2,name3):\n",
    "        self.name1 = name1\n",
    "        self.name2 = name2 \n",
    "        self.name3 = name3 \n",
    "    def len_names(self):\n",
    "        n1 = len(self.name1)\n",
    "        n2 = len(self.name2)\n",
    "        n3 = len(self.name3)\n",
    "        if(n1 > n2 and n1 > n3):\n",
    "            print(n1 ,\"is greatest\")\n",
    "        elif(n2 > n1 and n2 > n3):\n",
    "            print(n2 ,\"is greatest\")\n",
    "        elif(n3 > n2 and n3 > n1):\n",
    "            print(n1 ,\"is greatest\")\n",
    "        elif(n1 == n2 and n2 == n3):\n",
    "            print(n1 ,\"is greatest\")\n",
    "            print(n1 ,\"is greatest\")\n",
    "            print(n1 ,\"is greatest\")\n",
    "        else:\n",
    "            print(\"invalid input\")\n",
    "\n",
    "    # def get_name(self):\n",
    "name1 = str(input(\"enter name1\"))\n",
    "name2 = str(input(\"enter name2\"))\n",
    "name3 = str(input(\"enter name3\"))\n",
    "A = greatest(name1,name2,name3)\n",
    "A.len_names()"
   ]
  },
  {
   "cell_type": "code",
   "execution_count": null,
   "metadata": {},
   "outputs": [],
   "source": []
  },
  {
   "cell_type": "code",
   "execution_count": 12,
   "metadata": {},
   "outputs": [
    {
     "data": {
      "text/plain": [
       "['you are mad\\n', 'rayan and mayuri are enemies']"
      ]
     },
     "execution_count": 12,
     "metadata": {},
     "output_type": "execute_result"
    }
   ],
   "source": [
    "# def file():\n",
    "x = open(\"rayan.txt\",\"+r\")\n",
    "x.write(\"you are mad\")\n",
    "x.write(\"\\nrayan and mayuri are enemies\")\n",
    "x.readlines()\n",
    "# x.close()\n",
    "# file()"
   ]
  },
  {
   "cell_type": "code",
   "execution_count": 14,
   "metadata": {},
   "outputs": [
    {
     "name": "stdout",
     "output_type": "stream",
     "text": [
      "10\n"
     ]
    }
   ],
   "source": [
    "m = input(\"enter name\")\n",
    "r = str(input(\"enter name\"))\n",
    "y = str(input(\"enter name\"))\n",
    "\n",
    "c = int(input(\"enter\"))\n",
    "if (c == 1):\n",
    "    print(m)\n",
    "elif (c == 2):\n",
    "    print(r)\n",
    "elif (c == 3):\n",
    "    print(y)\n",
    "else:\n",
    "    print(\"invalid\")\n",
    "\n"
   ]
  },
  {
   "cell_type": "code",
   "execution_count": 1,
   "metadata": {},
   "outputs": [],
   "source": [
    "# write a python program with following specification:\n",
    "# ---there will be a fucntion named create data set \n",
    "# which will take a dictionary ,filename ,no. of rows as arguments\n",
    "# dictionary has the following structure {\"codomain name\":[domain of values]}\n",
    "# your fucntion will select random values for each of the domains and create a row for u \n",
    "# number of rows that has to be created is a parameter \n",
    "# save the file with number of rows \n",
    "# load this dataset using pandas and display basic information( head,tail,etc) "
   ]
  },
  {
   "cell_type": "code",
   "execution_count": 3,
   "metadata": {},
   "outputs": [
    {
     "data": {
      "text/plain": [
       "['mayuri,26,B.E,Meerut,YCCE\\n',\n",
       " 'aman,18,M.SC,Lucknow,Dacn\\n',\n",
       " 'pratham,21,B.CCA,Lucknow,GHRC\\n',\n",
       " 'pratham,24,B.CA,Varud,CMI\\n',\n",
       " 'amit,18,B.SC,Amravati,AU\\n',\n",
       " 'pratham,24,B.E,Shemoga,Dacn\\n',\n",
       " 'aditya,21,B.LIB,Varud,YCMOU\\n',\n",
       " 'aman,24,B.CCA,Nanded,CMI\\n',\n",
       " 'kruti,30,B.E,Nanded,DU\\n']"
      ]
     },
     "execution_count": 3,
     "metadata": {},
     "output_type": "execute_result"
    }
   ],
   "source": [
    "import random\n",
    "# import pandas as pd\n",
    "\n",
    "def createdataset(personal_dict,filename,rows):\n",
    "    file_= open(filename,\"w+\")\n",
    "    for _ in range(0,9,1):\n",
    "        file_.write(random.choice(personal_dict['name'])+\",\"+random.choice(personal_dict['age'])+\",\"+random.choice(personal_dict['ug'])+\",\"+random.choice(personal_dict['City'])+\",\"+random.choice(personal_dict['School'])+\"\\n\")\n",
    "    file_.close()\n",
    "\n",
    "personal_dict={\n",
    "        \"name\": [\"mayuri\",\"rayan\",\"yashi\",\"sakshi\",\"aman\",\"aditya\",\"pratham\",\"kruti\",\"sanjana\",\"amit\"],\n",
    "        \"age\":[\"20\",\"21\",\"22\",\"18\",\"19\",\"23\",\"24\",\"26\",\"27\",\"30\"] ,\n",
    "        \"ug\":[\"B.SC\",\"B.CA\",\"B.SC\",\"M.SC\",\"B.CCA\",\"B.COM\",\"B.BA\",\"B.LIB\",\"B.E\",\"ME\"],\n",
    "        \"City\": [\"Nagpur\",\"Shemoga\",\"Meerut\",\"Nanded\",\"Wardha\",\"Lucknow\",\"Varud\",\"Amravati\",\"Saoner\",\"Gurgaon\"],\n",
    "        \"School\": [\"Dacn\",\"S.A. College\",\"DU\",\"YCCE\",\"GHRC\",\"AU\",\"CMI\",\"S.F.S. College\",\"YCMOU\",\"RTMNU\"]\n",
    "    }\n",
    "createdataset(personal_dict,\"sample.csv\",9)\n",
    "x = open(\"sample.csv\",\"+r\")\n",
    "x.readlines()"
   ]
  },
  {
   "cell_type": "code",
   "execution_count": 1,
   "metadata": {},
   "outputs": [],
   "source": [
    "import pandas as pd\n"
   ]
  },
  {
   "cell_type": "code",
   "execution_count": 2,
   "metadata": {},
   "outputs": [
    {
     "data": {
      "text/html": [
       "<div>\n",
       "<style scoped>\n",
       "    .dataframe tbody tr th:only-of-type {\n",
       "        vertical-align: middle;\n",
       "    }\n",
       "\n",
       "    .dataframe tbody tr th {\n",
       "        vertical-align: top;\n",
       "    }\n",
       "\n",
       "    .dataframe thead th {\n",
       "        text-align: right;\n",
       "    }\n",
       "</style>\n",
       "<table border=\"1\" class=\"dataframe\">\n",
       "  <thead>\n",
       "    <tr style=\"text-align: right;\">\n",
       "      <th></th>\n",
       "      <th>Name</th>\n",
       "      <th>Age</th>\n",
       "      <th>DEg</th>\n",
       "      <th>city</th>\n",
       "      <th>scl</th>\n",
       "    </tr>\n",
       "  </thead>\n",
       "  <tbody>\n",
       "    <tr>\n",
       "      <th>0</th>\n",
       "      <td>aman</td>\n",
       "      <td>18</td>\n",
       "      <td>M.SC</td>\n",
       "      <td>Lucknow</td>\n",
       "      <td>Dacn</td>\n",
       "    </tr>\n",
       "    <tr>\n",
       "      <th>1</th>\n",
       "      <td>pratham</td>\n",
       "      <td>21</td>\n",
       "      <td>B.CCA</td>\n",
       "      <td>Lucknow</td>\n",
       "      <td>GHRC</td>\n",
       "    </tr>\n",
       "    <tr>\n",
       "      <th>2</th>\n",
       "      <td>pratham</td>\n",
       "      <td>24</td>\n",
       "      <td>B.CA</td>\n",
       "      <td>Varud</td>\n",
       "      <td>CMI</td>\n",
       "    </tr>\n",
       "    <tr>\n",
       "      <th>3</th>\n",
       "      <td>amit</td>\n",
       "      <td>18</td>\n",
       "      <td>B.SC</td>\n",
       "      <td>Amravati</td>\n",
       "      <td>AU</td>\n",
       "    </tr>\n",
       "    <tr>\n",
       "      <th>4</th>\n",
       "      <td>pratham</td>\n",
       "      <td>24</td>\n",
       "      <td>B.E</td>\n",
       "      <td>Shemoga</td>\n",
       "      <td>Dacn</td>\n",
       "    </tr>\n",
       "    <tr>\n",
       "      <th>5</th>\n",
       "      <td>aditya</td>\n",
       "      <td>21</td>\n",
       "      <td>B.LIB</td>\n",
       "      <td>Varud</td>\n",
       "      <td>YCMOU</td>\n",
       "    </tr>\n",
       "    <tr>\n",
       "      <th>6</th>\n",
       "      <td>aman</td>\n",
       "      <td>24</td>\n",
       "      <td>B.CCA</td>\n",
       "      <td>Nanded</td>\n",
       "      <td>CMI</td>\n",
       "    </tr>\n",
       "    <tr>\n",
       "      <th>7</th>\n",
       "      <td>kruti</td>\n",
       "      <td>30</td>\n",
       "      <td>B.E</td>\n",
       "      <td>Nanded</td>\n",
       "      <td>DU</td>\n",
       "    </tr>\n",
       "  </tbody>\n",
       "</table>\n",
       "</div>"
      ],
      "text/plain": [
       "      Name  Age    DEg      city    scl\n",
       "0     aman   18   M.SC   Lucknow   Dacn\n",
       "1  pratham   21  B.CCA   Lucknow   GHRC\n",
       "2  pratham   24   B.CA     Varud    CMI\n",
       "3     amit   18   B.SC  Amravati     AU\n",
       "4  pratham   24    B.E   Shemoga   Dacn\n",
       "5   aditya   21  B.LIB     Varud  YCMOU\n",
       "6     aman   24  B.CCA    Nanded    CMI\n",
       "7    kruti   30    B.E    Nanded     DU"
      ]
     },
     "execution_count": 2,
     "metadata": {},
     "output_type": "execute_result"
    }
   ],
   "source": [
    "import matplotlib.pyplot as plt \n",
    "m = pd.read_csv(\"sample.csv\")\n",
    "m.columns = ['Name', 'Age', 'DEg',\n",
    "                'city', 'scl'] \n",
    "  \n",
    "m"
   ]
  },
  {
   "cell_type": "code",
   "execution_count": 3,
   "metadata": {},
   "outputs": [
    {
     "data": {
      "text/html": [
       "<div>\n",
       "<style scoped>\n",
       "    .dataframe tbody tr th:only-of-type {\n",
       "        vertical-align: middle;\n",
       "    }\n",
       "\n",
       "    .dataframe tbody tr th {\n",
       "        vertical-align: top;\n",
       "    }\n",
       "\n",
       "    .dataframe thead th {\n",
       "        text-align: right;\n",
       "    }\n",
       "</style>\n",
       "<table border=\"1\" class=\"dataframe\">\n",
       "  <thead>\n",
       "    <tr style=\"text-align: right;\">\n",
       "      <th></th>\n",
       "      <th>Name</th>\n",
       "      <th>Age</th>\n",
       "      <th>DEg</th>\n",
       "      <th>city</th>\n",
       "      <th>scl</th>\n",
       "    </tr>\n",
       "  </thead>\n",
       "  <tbody>\n",
       "    <tr>\n",
       "      <th>0</th>\n",
       "      <td>aman</td>\n",
       "      <td>18</td>\n",
       "      <td>M.SC</td>\n",
       "      <td>Lucknow</td>\n",
       "      <td>Dacn</td>\n",
       "    </tr>\n",
       "    <tr>\n",
       "      <th>1</th>\n",
       "      <td>pratham</td>\n",
       "      <td>21</td>\n",
       "      <td>B.CCA</td>\n",
       "      <td>Lucknow</td>\n",
       "      <td>GHRC</td>\n",
       "    </tr>\n",
       "    <tr>\n",
       "      <th>2</th>\n",
       "      <td>pratham</td>\n",
       "      <td>24</td>\n",
       "      <td>B.CA</td>\n",
       "      <td>Varud</td>\n",
       "      <td>CMI</td>\n",
       "    </tr>\n",
       "    <tr>\n",
       "      <th>3</th>\n",
       "      <td>amit</td>\n",
       "      <td>18</td>\n",
       "      <td>B.SC</td>\n",
       "      <td>Amravati</td>\n",
       "      <td>AU</td>\n",
       "    </tr>\n",
       "    <tr>\n",
       "      <th>4</th>\n",
       "      <td>pratham</td>\n",
       "      <td>24</td>\n",
       "      <td>B.E</td>\n",
       "      <td>Shemoga</td>\n",
       "      <td>Dacn</td>\n",
       "    </tr>\n",
       "    <tr>\n",
       "      <th>5</th>\n",
       "      <td>aditya</td>\n",
       "      <td>21</td>\n",
       "      <td>B.LIB</td>\n",
       "      <td>Varud</td>\n",
       "      <td>YCMOU</td>\n",
       "    </tr>\n",
       "    <tr>\n",
       "      <th>6</th>\n",
       "      <td>aman</td>\n",
       "      <td>24</td>\n",
       "      <td>B.CCA</td>\n",
       "      <td>Nanded</td>\n",
       "      <td>CMI</td>\n",
       "    </tr>\n",
       "    <tr>\n",
       "      <th>7</th>\n",
       "      <td>kruti</td>\n",
       "      <td>30</td>\n",
       "      <td>B.E</td>\n",
       "      <td>Nanded</td>\n",
       "      <td>DU</td>\n",
       "    </tr>\n",
       "  </tbody>\n",
       "</table>\n",
       "</div>"
      ],
      "text/plain": [
       "      Name  Age    DEg      city    scl\n",
       "0     aman   18   M.SC   Lucknow   Dacn\n",
       "1  pratham   21  B.CCA   Lucknow   GHRC\n",
       "2  pratham   24   B.CA     Varud    CMI\n",
       "3     amit   18   B.SC  Amravati     AU\n",
       "4  pratham   24    B.E   Shemoga   Dacn\n",
       "5   aditya   21  B.LIB     Varud  YCMOU\n",
       "6     aman   24  B.CCA    Nanded    CMI\n",
       "7    kruti   30    B.E    Nanded     DU"
      ]
     },
     "execution_count": 3,
     "metadata": {},
     "output_type": "execute_result"
    }
   ],
   "source": [
    "m"
   ]
  },
  {
   "cell_type": "code",
   "execution_count": 5,
   "metadata": {},
   "outputs": [
    {
     "data": {
      "text/plain": [
       "<matplotlib.collections.PathCollection at 0x1ab986de010>"
      ]
     },
     "execution_count": 5,
     "metadata": {},
     "output_type": "execute_result"
    },
    {
     "data": {
      "image/png": "[encoded data removed]",
      "text/plain": [
       "<Figure size 640x480 with 1 Axes>"
      ]
     },
     "metadata": {},
     "output_type": "display_data"
    }
   ],
   "source": [
    "plt.scatter(data=m,x=\"Name\",y=\"Age\")"
   ]
  },
  {
   "cell_type": "code",
   "execution_count": 5,
   "metadata": {},
   "outputs": [
    {
     "name": "stdout",
     "output_type": "stream",
     "text": [
      "   a  b   c\n",
      "1  4  7  10\n",
      "2  5  8  11\n",
      "3  6  0  12\n"
     ]
    }
   ],
   "source": [
    "import pandas as pd \n",
    "df = pd.DataFrame(\n",
    "{\"a\" : [4, 5, 6],\n",
    "\"b\" : [7, 8,0], \n",
    "\"c\" : [10, 11, 12]},\n",
    "index = [1, 2, 3])\n",
    "print(df)\n"
   ]
  },
  {
   "cell_type": "code",
   "execution_count": 7,
   "metadata": {},
   "outputs": [
    {
     "name": "stdout",
     "output_type": "stream",
     "text": [
      "   a  b   c\n",
      "1  4  7  10\n",
      "2  5  8  11\n",
      "3  6  9  12\n"
     ]
    }
   ],
   "source": [
    "df = pd.DataFrame(\n",
    "[[4, 7, 10],\n",
    "[5, 8, 11],\n",
    "[6, 9, 12]],\n",
    "index=[1, 2, 3],\n",
    "columns=['a', 'b', 'c'])\n",
    "print(df)"
   ]
  },
  {
   "cell_type": "code",
   "execution_count": 8,
   "metadata": {},
   "outputs": [
    {
     "name": "stdout",
     "output_type": "stream",
     "text": [
      "     a  b   c\n",
      "n v          \n",
      "d 1  4  7  10\n",
      "  2  5  8  11\n",
      "e 2  6  9  12\n"
     ]
    }
   ],
   "source": [
    "df = pd.DataFrame(\n",
    "{\"a\" : [4 ,5, 6],\n",
    "\"b\" : [7, 8, 9],\n",
    "\"c\" : [10, 11, 12]},\n",
    "index = pd.MultiIndex.from_tuples(\n",
    "[('d', 1), ('d', 2),('e', 2)], names=['n', 'v']))\n",
    "print(df)"
   ]
  },
  {
   "cell_type": "code",
   "execution_count": 15,
   "metadata": {},
   "outputs": [
    {
     "ename": "ModuleNotFoundError",
     "evalue": "No module named 'natsort'",
     "output_type": "error",
     "traceback": [
      "\u001b[1;31m---------------------------------------------------------------------------\u001b[0m",
      "\u001b[1;31mModuleNotFoundError\u001b[0m                       Traceback (most recent call last)",
      "\u001b[1;32mc:\\Users\\mayur\\OneDrive\\Desktop\\cu\\MScDSB-MDS171-23122139-Mayuri\\MScDSB-MDS171-23122139-Mayuri\\CLASS WORK\\rough.ipynb Cell 14\u001b[0m line \u001b[0;36m6\n\u001b[0;32m      <a href='vscode-notebook-cell:/c%3A/Users/mayur/OneDrive/Desktop/cu/MScDSB-MDS171-23122139-Mayuri/MScDSB-MDS171-23122139-Mayuri/CLASS%20WORK/rough.ipynb#X16sZmlsZQ%3D%3D?line=0'>1</a>\u001b[0m df \u001b[39m=\u001b[39m pd\u001b[39m.\u001b[39mDataFrame({\n\u001b[0;32m      <a href='vscode-notebook-cell:/c%3A/Users/mayur/OneDrive/Desktop/cu/MScDSB-MDS171-23122139-Mayuri/MScDSB-MDS171-23122139-Mayuri/CLASS%20WORK/rough.ipynb#X16sZmlsZQ%3D%3D?line=1'>2</a>\u001b[0m    \u001b[39m\"\u001b[39m\u001b[39mtime\u001b[39m\u001b[39m\"\u001b[39m: [\u001b[39m'\u001b[39m\u001b[39m0hr\u001b[39m\u001b[39m'\u001b[39m, \u001b[39m'\u001b[39m\u001b[39m128hr\u001b[39m\u001b[39m'\u001b[39m, \u001b[39m'\u001b[39m\u001b[39m72hr\u001b[39m\u001b[39m'\u001b[39m, \u001b[39m'\u001b[39m\u001b[39m48hr\u001b[39m\u001b[39m'\u001b[39m, \u001b[39m'\u001b[39m\u001b[39m96hr\u001b[39m\u001b[39m'\u001b[39m],\n\u001b[0;32m      <a href='vscode-notebook-cell:/c%3A/Users/mayur/OneDrive/Desktop/cu/MScDSB-MDS171-23122139-Mayuri/MScDSB-MDS171-23122139-Mayuri/CLASS%20WORK/rough.ipynb#X16sZmlsZQ%3D%3D?line=2'>3</a>\u001b[0m    \u001b[39m\"\u001b[39m\u001b[39mvalue\u001b[39m\u001b[39m\"\u001b[39m: [\u001b[39m10\u001b[39m, \u001b[39m20\u001b[39m, \u001b[39m30\u001b[39m, \u001b[39m40\u001b[39m, \u001b[39m50\u001b[39m]\n\u001b[0;32m      <a href='vscode-notebook-cell:/c%3A/Users/mayur/OneDrive/Desktop/cu/MScDSB-MDS171-23122139-Mayuri/MScDSB-MDS171-23122139-Mayuri/CLASS%20WORK/rough.ipynb#X16sZmlsZQ%3D%3D?line=3'>4</a>\u001b[0m })\n\u001b[1;32m----> <a href='vscode-notebook-cell:/c%3A/Users/mayur/OneDrive/Desktop/cu/MScDSB-MDS171-23122139-Mayuri/MScDSB-MDS171-23122139-Mayuri/CLASS%20WORK/rough.ipynb#X16sZmlsZQ%3D%3D?line=5'>6</a>\u001b[0m \u001b[39mfrom\u001b[39;00m \u001b[39mnatsort\u001b[39;00m \u001b[39mimport\u001b[39;00m index_natsorted\n\u001b[0;32m      <a href='vscode-notebook-cell:/c%3A/Users/mayur/OneDrive/Desktop/cu/MScDSB-MDS171-23122139-Mayuri/MScDSB-MDS171-23122139-Mayuri/CLASS%20WORK/rough.ipynb#X16sZmlsZQ%3D%3D?line=6'>7</a>\u001b[0m df\u001b[39m.\u001b[39msort_values(\n\u001b[0;32m      <a href='vscode-notebook-cell:/c%3A/Users/mayur/OneDrive/Desktop/cu/MScDSB-MDS171-23122139-Mayuri/MScDSB-MDS171-23122139-Mayuri/CLASS%20WORK/rough.ipynb#X16sZmlsZQ%3D%3D?line=7'>8</a>\u001b[0m     by\u001b[39m=\u001b[39m\u001b[39m\"\u001b[39m\u001b[39mtime\u001b[39m\u001b[39m\"\u001b[39m,\n\u001b[0;32m      <a href='vscode-notebook-cell:/c%3A/Users/mayur/OneDrive/Desktop/cu/MScDSB-MDS171-23122139-Mayuri/MScDSB-MDS171-23122139-Mayuri/CLASS%20WORK/rough.ipynb#X16sZmlsZQ%3D%3D?line=8'>9</a>\u001b[0m     key\u001b[39m=\u001b[39m\u001b[39mlambda\u001b[39;00m x: np\u001b[39m.\u001b[39margsort(index_natsorted(df[\u001b[39m\"\u001b[39m\u001b[39mtime\u001b[39m\u001b[39m\"\u001b[39m]))\n\u001b[0;32m     <a href='vscode-notebook-cell:/c%3A/Users/mayur/OneDrive/Desktop/cu/MScDSB-MDS171-23122139-Mayuri/MScDSB-MDS171-23122139-Mayuri/CLASS%20WORK/rough.ipynb#X16sZmlsZQ%3D%3D?line=9'>10</a>\u001b[0m )\n",
      "\u001b[1;31mModuleNotFoundError\u001b[0m: No module named 'natsort'"
     ]
    }
   ],
   "source": [
    "\n",
    "df = pd.DataFrame({\n",
    "   \"time\": ['0hr', '128hr', '72hr', '48hr', '96hr'],\n",
    "   \"value\": [10, 20, 30, 40, 50]\n",
    "})\n",
    "\n",
    "from natsort import index_natsorted\n",
    "df.sort_values(\n",
    "    by=\"time\",\n",
    "    key=lambda x: np.argsort(index_natsorted(df[\"time\"]))\n",
    ")"
   ]
  },
  {
   "cell_type": "code",
   "execution_count": 18,
   "metadata": {},
   "outputs": [
    {
     "name": "stdout",
     "output_type": "stream",
     "text": [
      "['myu']\n",
      "['myu', 'rayan']\n",
      "not accepted\n",
      "the smmallest name is myu andlarges name israyan\n"
     ]
    }
   ],
   "source": [
    "# define a global list\n",
    "n_list = []\n",
    "def check_():\n",
    "    while True:\n",
    "        n= input(\"enter names and x to quit\")\n",
    "        if (n==\"x\"):\n",
    "            print(\"not accepted\")\n",
    "            break\n",
    "        elif n in n_list:\n",
    "            print(\"already exists\")\n",
    "        else :\n",
    "            ck = n.isalpha()\n",
    "            if ck is True:\n",
    "                n_list.append(n)\n",
    "                print(n_list)\n",
    "            else:\n",
    "                print(\"incorrect name\")\n",
    "    smallest = min(n_list,key = len)\n",
    "    largest = max(n_list,key = len)\n",
    "    print(\"the smmallest name is {} andlarges name is{}\".format(smallest,largest))\n",
    "check_()"
   ]
  },
  {
   "cell_type": "code",
   "execution_count": 32,
   "metadata": {},
   "outputs": [
    {
     "ename": "TypeError",
     "evalue": "mean() takes 0 positional arguments but 1 was given",
     "output_type": "error",
     "traceback": [
      "\u001b[1;31m---------------------------------------------------------------------------\u001b[0m",
      "\u001b[1;31mTypeError\u001b[0m                                 Traceback (most recent call last)",
      "\u001b[1;32mc:\\Users\\mayur\\OneDrive\\Desktop\\cu\\MScDSB-MDS171-23122139-Mayuri\\MScDSB-MDS171-23122139-Mayuri\\CLASS WORK\\rough.ipynb Cell 16\u001b[0m line \u001b[0;36m2\n\u001b[0;32m     <a href='vscode-notebook-cell:/c%3A/Users/mayur/OneDrive/Desktop/cu/MScDSB-MDS171-23122139-Mayuri/MScDSB-MDS171-23122139-Mayuri/CLASS%20WORK/rough.ipynb#X21sZmlsZQ%3D%3D?line=18'>19</a>\u001b[0m     \u001b[39mprint\u001b[39m(\u001b[39m\"\u001b[39m\u001b[39mmax is\u001b[39m\u001b[39m\"\u001b[39m,sort[\u001b[39m99\u001b[39m])\n\u001b[0;32m     <a href='vscode-notebook-cell:/c%3A/Users/mayur/OneDrive/Desktop/cu/MScDSB-MDS171-23122139-Mayuri/MScDSB-MDS171-23122139-Mayuri/CLASS%20WORK/rough.ipynb#X21sZmlsZQ%3D%3D?line=19'>20</a>\u001b[0m     \u001b[39mprint\u001b[39m(\u001b[39m\"\u001b[39m\u001b[39mrange is\u001b[39m\u001b[39m\"\u001b[39m,sort[\u001b[39m99\u001b[39m]\u001b[39m-\u001b[39msort[\u001b[39m0\u001b[39m])\n\u001b[1;32m---> <a href='vscode-notebook-cell:/c%3A/Users/mayur/OneDrive/Desktop/cu/MScDSB-MDS171-23122139-Mayuri/MScDSB-MDS171-23122139-Mayuri/CLASS%20WORK/rough.ipynb#X21sZmlsZQ%3D%3D?line=20'>21</a>\u001b[0m mean(List)\n\u001b[0;32m     <a href='vscode-notebook-cell:/c%3A/Users/mayur/OneDrive/Desktop/cu/MScDSB-MDS171-23122139-Mayuri/MScDSB-MDS171-23122139-Mayuri/CLASS%20WORK/rough.ipynb#X21sZmlsZQ%3D%3D?line=21'>22</a>\u001b[0m sorting(List)\n",
      "\u001b[1;31mTypeError\u001b[0m: mean() takes 0 positional arguments but 1 was given"
     ]
    }
   ],
   "source": [
    "# lab 03\n",
    "List=[761, 123, 585, 275, 194, 840, 999, 622, 763, 40, 825, 687, 402, 338, 611, 987, 739, 95, 819, 568, 320, 126, 688, 948, 514, 223, 751, 379, 857, 767, 492, 162, 437, 934, 430, 343, 725, 511, 580, 678, 708, 823, 346, 179, 786, 663, 195, 890, 267, 502, 214, 300, 786, 961, 235, 559, 992, 919, 948, 318, 57, 787, 653, 317, 305, 172, 966, 182, 970, 17, 89, 624, 629, 595, 485, 752, 984, 978, 460, 124, 321, 256, 614, 852, 811, 561, 127, 207, 406, 615, 888, 391, 691, 470, 911, 401, 137, 600, 478, 682] \n",
    "def mean():\n",
    "    sum = 0 \n",
    "    count = 0 \n",
    "    mean = 0\n",
    "    for i in List:\n",
    "        sum +=i  \n",
    "        count +=1\n",
    "        mean = sum/count\n",
    "    print(\"Mean is \",mean)\n",
    "def sorting(sort):\n",
    "    for i in range(0,len(sort)):\n",
    "        for j in range(i+1,len(sort)):\n",
    "            if sort[i]>sort[j]:\n",
    "                temp = sort[i]\n",
    "                sort[i]=sort[j]\n",
    "                sort[j]=temp\n",
    "    print(\"min is\",sort[0])\n",
    "    print(\"max is\",sort[99])\n",
    "    print(\"range is\",sort[99]-sort[0])\n",
    "mean()\n",
    "sorting(List)"
   ]
  },
  {
   "cell_type": "code",
   "execution_count": null,
   "metadata": {},
   "outputs": [],
   "source": [
    "# lab 05\n",
    "import random \n",
    "class restro:\n",
    "    def __init__(self):\n",
    "        self.orders = []\n",
    "    def add_(self,order):\n",
    "        self.orders.append(order)\n",
    "    def retrieve_(self):\n",
    "        return self.orders\n",
    "    def display_(self):\n",
    "        if not self.orders:\n",
    "            print(\"unavailable\")\n",
    "            return\n",
    "        total_orders = len(self.orders)\n",
    "        bill = sum()\n"
   ]
  },
  {
   "cell_type": "code",
   "execution_count": 2,
   "metadata": {},
   "outputs": [
    {
     "name": "stdout",
     "output_type": "stream",
     "text": [
      "1.add a dog\n",
      "2. add a cat\n",
      "3.search pet\n",
      "4.print pets\n",
      "5.exit\n"
     ]
    },
    {
     "ename": "AttributeError",
     "evalue": "'pet_store' object has no attribute 'search'",
     "output_type": "error",
     "traceback": [
      "\u001b[1;31m---------------------------------------------------------------------------\u001b[0m",
      "\u001b[1;31mAttributeError\u001b[0m                            Traceback (most recent call last)",
      "\u001b[1;32mc:\\Users\\mayur\\OneDrive\\Desktop\\cu\\MScDSB-MDS171-23122139-Mayuri\\MScDSB-MDS171-23122139-Mayuri\\CLASS WORK\\rough.ipynb Cell 18\u001b[0m line \u001b[0;36m4\n\u001b[0;32m     <a href='vscode-notebook-cell:/c%3A/Users/mayur/OneDrive/Desktop/cu/MScDSB-MDS171-23122139-Mayuri/MScDSB-MDS171-23122139-Mayuri/CLASS%20WORK/rough.ipynb#X23sZmlsZQ%3D%3D?line=46'>47</a>\u001b[0m \u001b[39melif\u001b[39;00m n \u001b[39m==\u001b[39m \u001b[39m3\u001b[39m:\n\u001b[0;32m     <a href='vscode-notebook-cell:/c%3A/Users/mayur/OneDrive/Desktop/cu/MScDSB-MDS171-23122139-Mayuri/MScDSB-MDS171-23122139-Mayuri/CLASS%20WORK/rough.ipynb#X23sZmlsZQ%3D%3D?line=47'>48</a>\u001b[0m     \u001b[39mtype\u001b[39m \u001b[39m=\u001b[39m \u001b[39minput\u001b[39m(\u001b[39m\"\u001b[39m\u001b[39menter type\u001b[39m\u001b[39m\"\u001b[39m)\n\u001b[1;32m---> <a href='vscode-notebook-cell:/c%3A/Users/mayur/OneDrive/Desktop/cu/MScDSB-MDS171-23122139-Mayuri/MScDSB-MDS171-23122139-Mayuri/CLASS%20WORK/rough.ipynb#X23sZmlsZQ%3D%3D?line=48'>49</a>\u001b[0m     X\u001b[39m.\u001b[39;49msearch(\u001b[39mtype\u001b[39m)\n\u001b[0;32m     <a href='vscode-notebook-cell:/c%3A/Users/mayur/OneDrive/Desktop/cu/MScDSB-MDS171-23122139-Mayuri/MScDSB-MDS171-23122139-Mayuri/CLASS%20WORK/rough.ipynb#X23sZmlsZQ%3D%3D?line=49'>50</a>\u001b[0m \u001b[39melif\u001b[39;00m n \u001b[39m==\u001b[39m \u001b[39m4\u001b[39m:\n\u001b[0;32m     <a href='vscode-notebook-cell:/c%3A/Users/mayur/OneDrive/Desktop/cu/MScDSB-MDS171-23122139-Mayuri/MScDSB-MDS171-23122139-Mayuri/CLASS%20WORK/rough.ipynb#X23sZmlsZQ%3D%3D?line=50'>51</a>\u001b[0m     X\u001b[39m.\u001b[39mprint_pets()\n",
      "\u001b[1;31mAttributeError\u001b[0m: 'pet_store' object has no attribute 'search'"
     ]
    }
   ],
   "source": [
    "class pet_store:\n",
    "    def __init__(self):\n",
    "        self.pets = {\n",
    "            \"dog\":[],\n",
    "            \"cat\":[]\n",
    "        }\n",
    "    def add_(self,type,breed,age,price):\n",
    "        det = {\n",
    "            \"type\":type,\n",
    "            \"breed\":breed,\n",
    "            \"age\":age,\n",
    "            \"price\":price\n",
    "        }\n",
    "        if type == dog :\n",
    "            self.pets[\"dog\"].append(det)\n",
    "        else :\n",
    "            self.pets[\"cat\"].append(det)\n",
    "    def search_(self,type):\n",
    "        type = input(\"enter type of pet\")\n",
    "        if type in self.pets:\n",
    "            for item in self.pets[type]:\n",
    "                print(item)\n",
    "    def print_pets(self):\n",
    "        print(self.pets)\n",
    "X=pet_store()\n",
    "\n",
    "def collect_():\n",
    "        breed = input(\"enter breed\")\n",
    "        age = int(input(\"enter age\"))\n",
    "        price = int(input(\"enter price\"))\n",
    "\n",
    "        return breed,age,price\n",
    "collect_()\n",
    "while True:\n",
    "    print(\"1.add a dog\")\n",
    "    print(\"2. add a cat\")\n",
    "    print(\"3.search pet\")\n",
    "    print(\"4.print pets\")\n",
    "    print(\"5.exit\")    \n",
    "    n = int(input(\"enter choice\"))\n",
    "    if n == 1:\n",
    "        breed,age,price =  collect_()\n",
    "        X.add_(\"dog\",breed,age,price)\n",
    "    elif n == 2:\n",
    "        breed,age,price =  collect_()\n",
    "        X.add_(\"cat\",breed,age,price)\n",
    "    elif n == 3:\n",
    "        type = input(\"enter type\")\n",
    "        X.search(type)\n",
    "    elif n == 4:\n",
    "        X.print_pets()\n",
    "    else: \n",
    "        break\n",
    "\n",
    "\n",
    "    \n",
    "\n",
    "          \n",
    "\n",
    "\n",
    "\n"
   ]
  },
  {
   "cell_type": "code",
   "execution_count": null,
   "metadata": {},
   "outputs": [],
   "source": []
  }
 ],
 "metadata": {
  "kernelspec": {
   "display_name": "Python 3",
   "language": "python",
   "name": "python3"
  },
  "language_info": {
   "codemirror_mode": {
    "name": "ipython",
    "version": 3
   },
   "file_extension": ".py",
   "mimetype": "text/x-python",
   "name": "python",
   "nbconvert_exporter": "python",
   "pygments_lexer": "ipython3",
   "version": "3.11.6"
  },
  "orig_nbformat": 4
 },
 "nbformat": 4,
 "nbformat_minor": 2
}
